{
  "nbformat": 4,
  "nbformat_minor": 0,
  "metadata": {
    "colab": {
      "name": "P3_load_boston_mejorado.ipynb.ipynb",
      "provenance": []
    },
    "kernelspec": {
      "name": "python3",
      "display_name": "Python 3"
    }
  },
  "cells": [
    {
      "cell_type": "code",
      "metadata": {
        "id": "3Ea8jyl5DJw9",
        "colab_type": "code",
        "colab": {}
      },
      "source": [
        "import numpy as np\n",
        "import pandas as pd\n",
        "\n",
        "import matplotlib.pyplot as plt\n",
        "from sklearn import datasets, linear_model\n",
        "import seaborn as sn"
      ],
      "execution_count": null,
      "outputs": []
    },
    {
      "cell_type": "code",
      "metadata": {
        "id": "wUcEWm_wEC2W",
        "colab_type": "code",
        "colab": {}
      },
      "source": [
        "datos = datasets.load_boston()"
      ],
      "execution_count": 3,
      "outputs": []
    },
    {
      "cell_type": "code",
      "metadata": {
        "id": "AwxkVNhcEQPS",
        "colab_type": "code",
        "colab": {}
      },
      "source": [
        "dataframe = pd.DataFrame(datos.data, columns=datos.feature_names)\n",
        "dataframe.drop(['AGE','INDUS'],1,inplace=True)"
      ],
      "execution_count": 4,
      "outputs": []
    },
    {
      "cell_type": "code",
      "metadata": {
        "id": "vzkPX92DEWk4",
        "colab_type": "code",
        "colab": {
          "base_uri": "https://localhost:8080/",
          "height": 51
        },
        "outputId": "0b752179-6fdc-4b36-cdd9-93ade7c6dc44"
      },
      "source": [
        "from sklearn.model_selection import train_test_split\n",
        "y = datos.target\n",
        "x = dataframe.values\n",
        "x_train,x_test,y_train,y_test = train_test_split(x,y,test_size=0.8)\n",
        "print(\"train = x{} - y{}\".format(x_train.shape,y_train.shape))\n",
        "print(\"test = x{} - y{}\".format(x_test.shape,y_test.shape))"
      ],
      "execution_count": 15,
      "outputs": [
        {
          "output_type": "stream",
          "text": [
            "train = x(101, 11) - y(101,)\n",
            "test = x(405, 11) - y(405,)\n"
          ],
          "name": "stdout"
        }
      ]
    },
    {
      "cell_type": "code",
      "metadata": {
        "id": "cm8UewE7EuuW",
        "colab_type": "code",
        "colab": {
          "base_uri": "https://localhost:8080/",
          "height": 282
        },
        "outputId": "d8057a19-5bd2-44c3-d40c-01ac4b93e515"
      },
      "source": [
        "regressor = linear_model.LinearRegression()\n",
        "regressor.fit(x_train, y_train)\n",
        "pred = regressor.predict(x_test)\n",
        "\n",
        "plt.scatter(y_test, pred)\n",
        "plt.plot([y.min(), y.max()], [y.min(), y.max()], c='r', lw=2)\n",
        "plt.show()\n",
        "print(\"Precisión del modelo: \"+str(regressor.score(x_test, y_test)))"
      ],
      "execution_count": 16,
      "outputs": [
        {
          "output_type": "display_data",
          "data": {
            "image/png": "[encoded data removed]",
            "text/plain": [
              "<Figure size 432x288 with 1 Axes>"
            ]
          },
          "metadata": {
            "tags": [],
            "needs_background": "light"
          }
        },
        {
          "output_type": "stream",
          "text": [
            "Precisión del modelo: 0.7067803246727165\n"
          ],
          "name": "stdout"
        }
      ]
    }
  ]
}